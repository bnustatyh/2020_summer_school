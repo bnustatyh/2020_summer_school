{
 "cells": [
  {
   "cell_type": "markdown",
   "metadata": {},
   "source": [
    "# 字符串基本知识与操作\n",
    "\n",
    "这里将介绍日常工作中最常用的基本知识和操作，关键是要了解字符串的抽象模型，这样即使换了一个编程语言，你也能很快上手。\n",
    "\n",
    "【熟悉业务场景，是程序员能快速上手一门新语言的关键原因】"
   ]
  },
  {
   "cell_type": "markdown",
   "metadata": {},
   "source": [
    "## 子串的概念\n",
    "\n",
    "“我们都有光明的未来”，这样一条句子就是一个字符串，其中的一个**连续子集**就是一个子串。\n",
    "\n",
    "这些都算是子串:\n",
    "* “我”\n",
    "* “我们”\n",
    "* “光明的未来”\n",
    "\n",
    "这样不算是原文的子串：”我都有“ （非连续子集）\n"
   ]
  },
  {
   "cell_type": "markdown",
   "metadata": {},
   "source": [
    "## 获取子串\n",
    "\n",
    "取子串是最常用的字符串操作之一，目的在于获取指定的部分文本。\n",
    "\n",
    "\n"
   ]
  },
  {
   "cell_type": "markdown",
   "metadata": {},
   "source": [
    "在Python中，可以直接对字符串进行切片操作，按下标直接切出子串，这是最简单的子串获取方式，在固定长度和格式的文本中很适合使用。但缺点也很明显，需要数下标，无法应用于不固定长度和格式的原文。如果原文不固定长度和格式，需要通过后面介绍的正则表达式匹配的方式来。\n",
    "\n",
    "但通过下标切片取子串仍然是基础且重要的方法，其他的方式也需要先搜索出子串的下标然后再切片取子串。"
   ]
  },
  {
   "cell_type": "code",
   "execution_count": 32,
   "metadata": {
    "ExecuteTime": {
     "end_time": "2020-08-14T23:06:24.029955Z",
     "start_time": "2020-08-14T23:06:24.025362Z"
    }
   },
   "outputs": [
    {
     "name": "stdout",
     "output_type": "stream",
     "text": [
      "光明的未来\n",
      "4\n"
     ]
    }
   ],
   "source": [
    "s = \"我们都有光明的未来\"\n",
    "\n",
    "\n",
    "# 数着字数，下标从0开始，“光”字在第五个，下标是4, [4:]表示从下标为4的位置，取完后面所有的字符\n",
    "sub_str = s[4:]\n",
    "print(sub_str)\n",
    "\n",
    "# 还可以用index方法获取到子串的首字下标\n",
    "print(s.index(\"光明\"))"
   ]
  },
  {
   "cell_type": "code",
   "execution_count": 29,
   "metadata": {
    "ExecuteTime": {
     "end_time": "2020-08-14T23:04:43.270193Z",
     "start_time": "2020-08-14T23:04:43.266158Z"
    }
   },
   "outputs": [
    {
     "data": {
      "text/plain": [
       "4"
      ]
     },
     "execution_count": 29,
     "metadata": {},
     "output_type": "execute_result"
    }
   ],
   "source": [
    "# 还可以只取一个字，这也是子串\n",
    "s[0]"
   ]
  },
  {
   "cell_type": "markdown",
   "metadata": {},
   "source": [
    "## 匹配子串\n",
    "\n",
    "判断某个词、短语是否能匹配到原文\n",
    "\n",
    "原句：科沃斯扫地机器人\n",
    "\n",
    "判断这段字符串是否包含某个品牌的信息\n",
    "\n",
    "\n",
    "\n"
   ]
  },
  {
   "cell_type": "code",
   "execution_count": 49,
   "metadata": {
    "ExecuteTime": {
     "end_time": "2020-08-15T05:33:26.381986Z",
     "start_time": "2020-08-15T05:33:26.376892Z"
    }
   },
   "outputs": [
    {
     "data": {
      "text/plain": [
       "False"
      ]
     },
     "execution_count": 49,
     "metadata": {},
     "output_type": "execute_result"
    }
   ],
   "source": [
    "s = \"科沃斯扫地机器人\"\n",
    "\n",
    "# 这段字符串不包含品牌名“小米”\n",
    "\"小米\" in s"
   ]
  },
  {
   "cell_type": "markdown",
   "metadata": {},
   "source": [
    "## 替换子串\n",
    "\n",
    "将字符串中的某个词换成另一个\n",
    "\n",
    "原句：科沃斯扫地机器人\n",
    "\n",
    "把“科沃斯”换成“小米”"
   ]
  },
  {
   "cell_type": "code",
   "execution_count": 11,
   "metadata": {
    "ExecuteTime": {
     "end_time": "2020-08-14T22:24:37.826128Z",
     "start_time": "2020-08-14T22:24:37.821196Z"
    }
   },
   "outputs": [
    {
     "data": {
      "text/plain": [
       "'小米扫地机器人'"
      ]
     },
     "execution_count": 11,
     "metadata": {},
     "output_type": "execute_result"
    }
   ],
   "source": [
    "s = \"科沃斯扫地机器人\"\n",
    "\n",
    "s1 = s.replace(\"科沃斯\",\"小米\")\n",
    "s1"
   ]
  },
  {
   "cell_type": "markdown",
   "metadata": {},
   "source": [
    "## 拼接 & 变量替换\n",
    "\n",
    "将多段字符串串联在一起\n",
    "\n",
    "将下面三条语句串联起来：\n",
    "\n",
    "* 智能投影仪已经可以取代电视显示屏了\n",
    "* 可以语音输入\n",
    "* 老人小孩都能轻松使用\n"
   ]
  },
  {
   "cell_type": "code",
   "execution_count": 12,
   "metadata": {
    "ExecuteTime": {
     "end_time": "2020-08-14T22:29:49.352127Z",
     "start_time": "2020-08-14T22:29:49.349029Z"
    }
   },
   "outputs": [],
   "source": [
    "s1 = \"智能投影仪已经可以取代电视显示屏了\"\n",
    "s2 = \"可以语音输入\"\n",
    "s3 = \"老人小孩都能轻松使用\"\n"
   ]
  },
  {
   "cell_type": "code",
   "execution_count": 13,
   "metadata": {
    "ExecuteTime": {
     "end_time": "2020-08-14T22:30:09.226697Z",
     "start_time": "2020-08-14T22:30:09.222523Z"
    }
   },
   "outputs": [
    {
     "name": "stdout",
     "output_type": "stream",
     "text": [
      "智能投影仪已经可以取代电视显示屏了,可以语音输入,老人小孩都能轻松使用\n"
     ]
    }
   ],
   "source": [
    "# 通过+进行拼接\n",
    "s = s1 + \",\" + s2 + \",\" + s3\n",
    "print(s)"
   ]
  },
  {
   "cell_type": "code",
   "execution_count": 14,
   "metadata": {
    "ExecuteTime": {
     "end_time": "2020-08-14T22:32:19.690722Z",
     "start_time": "2020-08-14T22:32:19.685036Z"
    }
   },
   "outputs": [
    {
     "data": {
      "text/plain": [
       "'智能投影仪已经可以取代电视显示屏了,可以语音输入,老人小孩都能轻松使用'"
      ]
     },
     "execution_count": 14,
     "metadata": {},
     "output_type": "execute_result"
    }
   ],
   "source": [
    "# 通过变量替换进行拼接，在字符串前端加个f，即可在字符串中使用Python变量进行替换，用{}框起来表示为变量\n",
    "\n",
    "s = f\"{s1},{s2},{s3}\"\n",
    "s"
   ]
  },
  {
   "cell_type": "markdown",
   "metadata": {},
   "source": [
    "## 联结与分割\n",
    "\n",
    "联结（Join）：将若干字符串通过指定的符号串联起来\n",
    "\n",
    "分割：联结的逆操作，将一段字符串按指定符号进行切割"
   ]
  },
  {
   "cell_type": "code",
   "execution_count": 17,
   "metadata": {
    "ExecuteTime": {
     "end_time": "2020-08-14T22:37:59.690576Z",
     "start_time": "2020-08-14T22:37:59.684745Z"
    }
   },
   "outputs": [
    {
     "name": "stdout",
     "output_type": "stream",
     "text": [
      "智能投影仪已经可以取代电视显示屏了 可以语音输入 老人小孩都能轻松使用\n"
     ]
    }
   ],
   "source": [
    "# 仍以上面拼接中的三个字符串为例子，换用空格进行联结\n",
    "join_str = \" \".join([s1,s2,s3])\n",
    "print(join_str)"
   ]
  },
  {
   "cell_type": "code",
   "execution_count": 19,
   "metadata": {
    "ExecuteTime": {
     "end_time": "2020-08-14T22:38:39.690729Z",
     "start_time": "2020-08-14T22:38:39.685286Z"
    }
   },
   "outputs": [
    {
     "data": {
      "text/plain": [
       "['智能投影仪已经可以取代电视显示屏了', '可以语音输入', '老人小孩都能轻松使用']"
      ]
     },
     "execution_count": 19,
     "metadata": {},
     "output_type": "execute_result"
    }
   ],
   "source": [
    "# 将联结完的字符串再分割，返回一个list\n",
    "join_str.split(\" \")"
   ]
  },
  {
   "cell_type": "markdown",
   "metadata": {},
   "source": [
    "## 端点处理\n",
    "\n",
    "去掉字符串两端的指定字符，常用于去处首尾的多余空白字符（空格、换行符等）\n"
   ]
  },
  {
   "cell_type": "code",
   "execution_count": 20,
   "metadata": {
    "ExecuteTime": {
     "end_time": "2020-08-14T22:43:41.660142Z",
     "start_time": "2020-08-14T22:43:41.655734Z"
    }
   },
   "outputs": [
    {
     "data": {
      "text/plain": [
       "'左边有空格，右边也有空格'"
      ]
     },
     "execution_count": 20,
     "metadata": {},
     "output_type": "execute_result"
    }
   ],
   "source": [
    "# strip会去掉首尾两端的空白字符\n",
    "s1 = \"   左边有空格，右边也有空格    \"\n",
    "s1.strip()"
   ]
  },
  {
   "cell_type": "code",
   "execution_count": 22,
   "metadata": {
    "ExecuteTime": {
     "end_time": "2020-08-14T22:46:01.812059Z",
     "start_time": "2020-08-14T22:46:01.807317Z"
    }
   },
   "outputs": [
    {
     "data": {
      "text/plain": [
       "'bc左边a，右边baccbbbb'"
      ]
     },
     "execution_count": 22,
     "metadata": {},
     "output_type": "execute_result"
    }
   ],
   "source": [
    "s1 = \"aaaabc左边a，右边baccbbbb\"\n",
    "# 可以指定要去除的端点字符\n",
    "s1.strip('a')"
   ]
  },
  {
   "cell_type": "code",
   "execution_count": 26,
   "metadata": {
    "ExecuteTime": {
     "end_time": "2020-08-14T22:48:49.182994Z",
     "start_time": "2020-08-14T22:48:49.177585Z"
    }
   },
   "outputs": [
    {
     "name": "stdout",
     "output_type": "stream",
     "text": [
      "原字符串：aaaabc左边a，右边aaccaaaa\n",
      "左处理后：bc左边a，右边aaccaaaa\n",
      "右处理后：aaaabc左边a，右边aacc\n"
     ]
    }
   ],
   "source": [
    "s1 = \"aaaabc左边a，右边aaccaaaa\"\n",
    "# 还可以用lstrip,rstrip针对性地只处理一边\n",
    "ls1 = s1.lstrip('a')\n",
    "rs1 = s1.rstrip('a')\n",
    "print(f\"原字符串：{s1}\")\n",
    "print(f\"左处理后：{ls1}\")\n",
    "print(f\"右处理后：{rs1}\")\n"
   ]
  },
  {
   "cell_type": "markdown",
   "metadata": {},
   "source": [
    "# 正则表达式"
   ]
  },
  {
   "cell_type": "markdown",
   "metadata": {},
   "source": [
    "在字符串的基本操作中有这么几项：获取子串、匹配子串、替换子串，这些操作无一例外都需要对子串进行查找。切片操作需要知道子串的首字下标，匹配子串需要查找原文中是否有这个子串，替换子串则是先找到原文中的对应子串，才能进行替换。但这种查找方式的泛用性不佳，无法处理查找一类特定格式的字符串，举例说明，形如yyyy-mm-dd的日期，形如xxxx@gmail.com的邮箱地址，或者以http开头的网页链接。\n",
    "\n",
    "正则表达式正是为此而生的，通过编写合适的pattern，我们将能匹配上面所列举的日期、邮箱地址和网页链接，甚至更复杂的内容。\n",
    "\n"
   ]
  },
  {
   "cell_type": "markdown",
   "metadata": {},
   "source": [
    "## re模块（正则匹配处理文字）\n",
    "\n",
    "Python内建的re模块提供了用正则表达式进行文字处理的能力\n"
   ]
  },
  {
   "cell_type": "code",
   "execution_count": 34,
   "metadata": {
    "ExecuteTime": {
     "end_time": "2020-08-15T05:14:02.694896Z",
     "start_time": "2020-08-15T05:14:02.691617Z"
    }
   },
   "outputs": [],
   "source": [
    "import re"
   ]
  },
  {
   "cell_type": "markdown",
   "metadata": {},
   "source": [
    "### 匹配与获取子串\n",
    "\n",
    "如何判断一个字符串中是否包含符合特定模式的内容，并进一步提取出来？\n",
    "\n",
    "可以使用search函数\n"
   ]
  },
  {
   "cell_type": "code",
   "execution_count": 87,
   "metadata": {
    "ExecuteTime": {
     "end_time": "2020-08-15T06:23:12.670232Z",
     "start_time": "2020-08-15T06:23:12.664018Z"
    }
   },
   "outputs": [
    {
     "name": "stdout",
     "output_type": "stream",
     "text": [
      "字符串 \"今天的日期是2020-08-15\" 匹配到了子串2020-08-15,位置(6, 16)\n",
      "通过span取得子串：2020-08-15\n",
      "字符串 \"今天的日期5是20200815\" 不匹配pettern，结果：None\n"
     ]
    }
   ],
   "source": [
    "# 搜索字符串中是否存在形如yyyy-MM-dd\n",
    "\n",
    "# 这个pattern会匹配所有形如 xxxx-xx-xx的字符串，其中x为0-9之一\n",
    "pattern = \"\\d{4}-\\d{2}-\\d{2}\"\n",
    "\n",
    "s_list = [\n",
    "    \"今天的日期是2020-08-15\",\n",
    "    \"今天的日期5是20200815\"\n",
    "]\n",
    "\n",
    "for s in s_list:\n",
    "    m = re.search(pattern,s)\n",
    "    \n",
    "    # 如果能匹配到pattern，返回一个Match对象，否则返回None\n",
    "    if m:\n",
    "        # group()可以返回匹配的子串，span()返回子串所在的位置（首、尾字的下标）\n",
    "        match_str = m.group()\n",
    "        span = m.span()\n",
    "        print(f\"字符串 \\\"{s}\\\" 匹配到了子串{match_str},位置{span}\")\n",
    "        print(f\"通过span取得子串：{s[span[0]:span[1]]}\")\n",
    "    else:\n",
    "        print(f\"字符串 \\\"{s}\\\" 不匹配pettern，结果：{m}\")\n"
   ]
  },
  {
   "cell_type": "markdown",
   "metadata": {},
   "source": [
    "### 获取分组子串\n",
    "可以在pattern中对一部分内容用()框起来，进行分组，从而单独提取这一部分\n",
    "\n",
    "比如对于pattern (\\d{4})-(\\d{2})-(\\d{2})，可以分别提取年、月、日\n",
    "\n"
   ]
  },
  {
   "cell_type": "code",
   "execution_count": 89,
   "metadata": {
    "ExecuteTime": {
     "end_time": "2020-08-15T06:30:47.794010Z",
     "start_time": "2020-08-15T06:30:47.788440Z"
    }
   },
   "outputs": [
    {
     "name": "stdout",
     "output_type": "stream",
     "text": [
      "全子串：2020-08-15，年:2020，月：08，日：15\n"
     ]
    }
   ],
   "source": [
    "p = \"(\\d{4})-(\\d{2})-(\\d{2})\"\n",
    "\n",
    "s = \"今天的日期是2020-08-15\"\n",
    "\n",
    "m = re.search(p,s)\n",
    "if m:\n",
    "    # 使用group函数来获取，0为全文，1,2,3分别对应从左到右每个()框起来的部分\n",
    "    substr = m.group(0)\n",
    "    year = m.group(1)\n",
    "    month = m.group(2)\n",
    "    day = m.group(3)\n",
    "    print(f\"全子串：{substr}，年:{year}，月：{month}，日：{day}\")"
   ]
  },
  {
   "cell_type": "markdown",
   "metadata": {},
   "source": [
    "### 获取多个匹配子串\n",
    "\n",
    "当一个字符串里有多个子串匹配到pattern是，可以将他们全部取出来。\n",
    "如果用search方法，则只会匹配到第一个子串。这里可以使用findall方法，也可以用finditer，两者的差别是，前者返回一个list,元素是匹配的完整子串，后者返回一个迭代器，元素是Match对象，当预计会匹配到的子串数量较多时，如果需要使用Match对象进行深度处理时，更适合使用finditer"
   ]
  },
  {
   "cell_type": "code",
   "execution_count": 102,
   "metadata": {
    "ExecuteTime": {
     "end_time": "2020-08-15T06:39:47.489972Z",
     "start_time": "2020-08-15T06:39:47.485058Z"
    }
   },
   "outputs": [
    {
     "name": "stdout",
     "output_type": "stream",
     "text": [
      "['2018-02-16是春节', '2019-02-05是春节', '2020-01-25是春节']\n",
      "<re.Match object; span=(0, 13), match='2018-02-16是春节'>\n",
      "<re.Match object; span=(14, 27), match='2019-02-05是春节'>\n",
      "<re.Match object; span=(28, 41), match='2020-01-25是春节'>\n"
     ]
    }
   ],
   "source": [
    "s = \"2018-02-16是春节,2019-02-05是春节,2020-01-25是春节\"\n",
    "pattern = \"\\d{4}-\\d{2}-\\d{2}是春节\"\n",
    "\n",
    "# 返回的是匹配出的子串列表\n",
    "substr_list = re.findall(pattern,s)\n",
    "print(substr_list)\n",
    "\n",
    "substr_iter = re.finditer(pattern,s)\n",
    "for m in substr_iter:\n",
    "    print(m)"
   ]
  },
  {
   "cell_type": "markdown",
   "metadata": {
    "ExecuteTime": {
     "end_time": "2020-08-15T05:22:12.637727Z",
     "start_time": "2020-08-15T05:22:12.631630Z"
    }
   },
   "source": [
    "### 替换子串\n",
    "\n",
    "将匹配到pattern的子串替换成自己指定的内容\n"
   ]
  },
  {
   "cell_type": "code",
   "execution_count": 99,
   "metadata": {
    "ExecuteTime": {
     "end_time": "2020-08-15T06:39:14.113648Z",
     "start_time": "2020-08-15T06:39:14.107291Z"
    }
   },
   "outputs": [
    {
     "name": "stdout",
     "output_type": "stream",
     "text": [
      "原文：\"今天的日期是2020-08-15\"\n",
      "替换后的文本（by固定内容）：\"今天的日期是2020-08-15\"\n",
      "替换后的文本（by函数）：\"今天的日期是2020-08-15\"\n"
     ]
    }
   ],
   "source": [
    "s = s_list[0]\n",
    "print(f\"原文：\\\"{s}\\\"\")\n",
    "\n",
    "\n",
    "replace_substr = \"替换内容\"\n",
    "replaced_str = re.sub(pattern,replace_substr,s)\n",
    "print(f\"替换后的文本（by固定内容）：\\\"{replaced_str}\\\"\")\n",
    "\n",
    "# 如果希望在子串上做修改，也就是让被替换的内容保留原子串的一些信息，可以使用函数代替固定的替换内容\n",
    "# 函数的传入参数为Match对象\n",
    "# 下面的方法展示了如何去掉原文日期里的横线\n",
    "def replace_f(match_object):\n",
    "    match_str = match_object.group(0)\n",
    "    return match_str.replace(\"-\",\"\")\n",
    "replaced_str2 = re.sub(pattern,replace_f,s)\n",
    "print(f\"替换后的文本（by函数）：\\\"{replaced_str2}\\\"\")\n",
    "\n"
   ]
  },
  {
   "cell_type": "markdown",
   "metadata": {},
   "source": [
    "### 起始位置匹配\n",
    "\n",
    "前面提到的方法，是从整个文本中搜索匹配的子串的，也就是说匹配到的子串，它的首字下标可以不是0。\n",
    "\n",
    "但如果你希望从第一个字开始匹配，甚至要求整个文本符合你要求的模式，就需要用另外的方法。\n",
    "\n",
    "比如仍然使用pattern \\d{4}-\\d{2}-\\d{2}\n",
    "\n",
    "* 文本1: 今天的日期是2020-08-15\n",
    "* 文本2: 2020-08-15\n",
    "\n",
    "在做子串匹配的时候，1、2都可以匹配上。但做起始位置匹配的时候，只有2才能匹配上，也就是要求符合pattern的子串的首字下标为0\n"
   ]
  },
  {
   "cell_type": "code",
   "execution_count": 83,
   "metadata": {
    "ExecuteTime": {
     "end_time": "2020-08-15T06:00:55.499852Z",
     "start_time": "2020-08-15T06:00:55.490261Z"
    }
   },
   "outputs": [
    {
     "name": "stdout",
     "output_type": "stream",
     "text": [
      "===================================\n",
      "文本1: \"今天的日期是2020-08-15\"\n",
      "不匹配pattern1\n",
      "不匹配pattern2\n",
      "===================================\n",
      "文本2: \"2020-08-15 是今天的日期\"\n",
      "匹配pattern1:2020-08-15,位置(0, 10)\n",
      "不匹配pattern2\n",
      "===================================\n",
      "文本3: \"2020-08-15\n",
      "\n",
      "\"\n",
      "匹配pattern1:2020-08-15,位置(0, 10)\n",
      "不匹配pattern2\n",
      "===================================\n",
      "文本4: \"2020-08-15\n",
      "\"\n",
      "匹配pattern1:2020-08-15,位置(0, 10)\n",
      "匹配pattern2:2020-08-15,位置(0, 10)\n",
      "===================================\n",
      "文本5: \"2020-08-15\"\n",
      "匹配pattern1:2020-08-15,位置(0, 10)\n",
      "匹配pattern2:2020-08-15,位置(0, 10)\n"
     ]
    }
   ],
   "source": [
    "pattern = \"\\d{4}-\\d{2}-\\d{2}\"\n",
    "\n",
    "# pattern2，在末尾加了个$,这是要求匹配到的子串必须是一行的结束（后面没有内容或者只有一个换行符\\n）\n",
    "# 加上match本身要求从起始位置匹配，就实现了对全文的pattern匹配\n",
    "pattern2 = \"\\d{4}-\\d{2}-\\d{2}$\"\n",
    "s_list = [\n",
    "    \"今天的日期是2020-08-15\",\n",
    "    \"2020-08-15 是今天的日期\",\n",
    "    \"2020-08-15\\n\\n\",\n",
    "    \"2020-08-15\\n\",\n",
    "    \"2020-08-15\"\n",
    "]\n",
    "\n",
    "i = 0\n",
    "for s in s_list:\n",
    "    i = i+1\n",
    "    m1 = re.match(pattern,s)\n",
    "    m2 = re.match(pattern2,s)\n",
    "    # 如果能匹配到pattern，返回一个Match对象，否则返回None\n",
    "    print(\"===================================\")\n",
    "    print(f\"文本{i}: \\\"{s}\\\"\")\n",
    "    if m1:\n",
    "        # group()可以返回匹配的子串，span()返回子串所在的位置（首、尾字的下标）\n",
    "        match_str = m1.group()\n",
    "        span = m1.span()\n",
    "        print(f\"匹配pattern1:{match_str},位置{span}\")\n",
    "    else:\n",
    "        print(f\"不匹配pattern1\")\n",
    "    if m2:\n",
    "        # group()可以返回匹配的子串，span()返回子串所在的位置（首、尾字的下标）\n",
    "        match_str = m2.group()\n",
    "        span = m2.span()\n",
    "        print(f\"匹配pattern2:{match_str},位置{span}\")\n",
    "    else:\n",
    "        print(f\"不匹配pattern2\")\n",
    "    "
   ]
  },
  {
   "cell_type": "markdown",
   "metadata": {
    "ExecuteTime": {
     "end_time": "2020-08-15T06:00:27.203446Z",
     "start_time": "2020-08-15T06:00:27.197720Z"
    }
   },
   "source": [
    "## 怎么写pattern\n",
    "\n",
    "\n",
    "There is [a popular quote by Jamie Zawinski](http://regex.info/blog/2006-09-15/247):\n",
    "\n",
    ">Some people, when confronted with a problem, think \"I know, I'll use regular expressions.\" Now they have two problems.\n",
    "\n",
    "当你要用正则来解决一个问题的时候，你就有了两个问题（第二个问题是正则怎么写）\n",
    "\n",
    "正则有着非常强的表达力和自由度，但也带来问题，就是你写出来的pattern可能不仅仅能匹配到你需要的子串，也可能匹配到你不需要的。要编写一个恰到好处的正则，非常需要时间和经验的积累，还需要根据实际的业务状况进行调整（比如邮箱后缀发生改变）。某些业务的中的正则表达式，甚至可能是多个程序员历经数十年沉淀下来的，堪称是“祖传的正则表达式”\n",
    "\n",
    "本次课程限于时间原因，仅仅是讲一个入门，让大家在学习之后能够写出一些常用的正则，满足简单的工作需求。\n",
    "\n",
    "当你不确定自己的pattern能否顺利匹配时，可以看看这个网站 https://regex101.com/ ，能够有效地帮助调试\n",
    "\n",
    "\n",
    "想要完整地学习正则表达式，解决复杂的需求，还请购买下面这本书进行学习\n",
    "![正则表达式必知必会](https://img3.doubanio.com/view/subject/s/public/s27967650.jpg)\n",
    "\n",
    "\n",
    "\n",
    "\n",
    "下面就让我们循序渐进来学习如何pattern"
   ]
  },
  {
   "cell_type": "markdown",
   "metadata": {},
   "source": [
    "### 定长匹配\n",
    "\n",
    "\n",
    "指的是pattern表示的字符长度和子串的长度相同，只要子串每一个位置上的字符能和pattern的字符匹配，这个子串就和pattern匹配了。\n",
    "\n",
    "我们将通过这种方式来学习pattern中对应单字符的表达式\n",
    "\n",
    "\n"
   ]
  },
  {
   "cell_type": "markdown",
   "metadata": {},
   "source": [
    "#### 固定字符\n",
    "\n",
    "让我们从最简单的情况开始：固定字符，这和 xx in xxxx 是一样的\n"
   ]
  },
  {
   "cell_type": "code",
   "execution_count": 133,
   "metadata": {
    "ExecuteTime": {
     "end_time": "2020-08-15T07:00:59.614414Z",
     "start_time": "2020-08-15T07:00:59.609156Z"
    }
   },
   "outputs": [
    {
     "data": {
      "text/plain": [
       "<re.Match object; span=(18, 21), match='Ben'>"
      ]
     },
     "execution_count": 133,
     "metadata": {},
     "output_type": "execute_result"
    }
   ],
   "source": [
    "s = \"Hello, my name is Ben. Please visit my website at http://www.forta.com/.\"\n",
    "\n",
    "# pattern是Ben\n",
    "p = \"Ben\"\n",
    "\n",
    "re.search(p,s)"
   ]
  },
  {
   "cell_type": "markdown",
   "metadata": {},
   "source": [
    "#### 通配符\n",
    "更进一步，我们可以把中间的e换成通配符，也就是可以匹配任意字符的符号，通配符在正则表达式中用`.`来表示"
   ]
  },
  {
   "cell_type": "code",
   "execution_count": 110,
   "metadata": {
    "ExecuteTime": {
     "end_time": "2020-08-15T06:50:14.013186Z",
     "start_time": "2020-08-15T06:50:14.008073Z"
    }
   },
   "outputs": [
    {
     "name": "stdout",
     "output_type": "stream",
     "text": [
      "文本 Hello, my name is Ban. 匹配，子串为Ban\n",
      "文本 Hello, my name is Bbn. 匹配，子串为Bbn\n",
      "文本 Hello, my name is Ben. 匹配，子串为Ben\n",
      "文本 Hello, my name is Aen. 不匹配\n"
     ]
    }
   ],
   "source": [
    "s_list = [\n",
    "    \"Hello, my name is Ban.\",\n",
    "    \"Hello, my name is Bbn.\",\n",
    "    \"Hello, my name is Ben.\",\n",
    "    \"Hello, my name is Aen.\"\n",
    "\n",
    "]\n",
    "\n",
    "p = \"B.n\"\n",
    "\n",
    "for s in s_list:\n",
    "    m = re.search(p,s)\n",
    "    if m:\n",
    "        print(f\"文本 {s} 匹配，子串为{m.group(0)}\")\n",
    "    else:\n",
    "        print(f\"文本 {s} 不匹配\")\n"
   ]
  },
  {
   "cell_type": "markdown",
   "metadata": {},
   "source": [
    "#### 转义字符\n",
    "那么，我们要匹配`.`时该怎么办？这就需要用到转义字符`\\`，用`\\.`就可以在正则表达式中指代`.`"
   ]
  },
  {
   "cell_type": "code",
   "execution_count": 132,
   "metadata": {
    "ExecuteTime": {
     "end_time": "2020-08-15T06:58:38.400218Z",
     "start_time": "2020-08-15T06:58:38.393617Z"
    }
   },
   "outputs": [
    {
     "name": "stdout",
     "output_type": "stream",
     "text": [
      "====== 文本 Hello, my name is Ban. ======\n",
      "匹配pattern1，子串为Ban.\n",
      "====== 文本 Hello, my name is Bbn. ======\n",
      "匹配pattern1，子串为Bbn.\n",
      "====== 文本 Hello, my name is Ben. ======\n",
      "匹配pattern1，子串为Ben.\n",
      "====== 文本 Hello, my name is Aen. ======\n",
      "不匹配patter1\n"
     ]
    }
   ],
   "source": [
    "s_list = [\n",
    "    \"Hello, my name is Ban.\",\n",
    "    \"Hello, my name is Bbn.\",\n",
    "    \"Hello, my name is Ben.\",\n",
    "    \"Hello, my name is Aen.\"\n",
    "\n",
    "]\n",
    "\n",
    "p1 = \"B.n\\.\"\n",
    "\n",
    "for s in s_list:\n",
    "    m1 = re.search(p1,s)\n",
    "    print(f\"====== 文本 {s} ======\")\n",
    "    if m1:\n",
    "        print(f\"匹配pattern1，子串为{m1.group(0)}\")\n",
    "    else:\n",
    "        print(f\"不匹配patter1\")\n"
   ]
  },
  {
   "cell_type": "markdown",
   "metadata": {},
   "source": [
    "#### 集合\n",
    "前面提到了通配符，但通配符的适用面太广了，我们只想匹配某个集合里面的字符,就可以用`[ ]`框起来\n"
   ]
  },
  {
   "cell_type": "code",
   "execution_count": 134,
   "metadata": {
    "ExecuteTime": {
     "end_time": "2020-08-15T07:05:26.980842Z",
     "start_time": "2020-08-15T07:05:26.976809Z"
    }
   },
   "outputs": [
    {
     "name": "stdout",
     "output_type": "stream",
     "text": [
      "文本 Hello, my name is Ban. 匹配，子串为Ban\n",
      "文本 Hello, my name is Bbn. 匹配，子串为Bbn\n",
      "文本 Hello, my name is Ben. 不匹配\n",
      "文本 Hello, my name is Aen. 不匹配\n"
     ]
    }
   ],
   "source": [
    "s_list = [\n",
    "    \"Hello, my name is Ban.\",\n",
    "    \"Hello, my name is Bbn.\",\n",
    "    \"Hello, my name is Ben.\",\n",
    "    \"Hello, my name is Aen.\"\n",
    "\n",
    "]\n",
    "\n",
    "# 只匹配Ban和Bbn\n",
    "p = \"B[ab]n\"\n",
    "\n",
    "for s in s_list:\n",
    "    m = re.search(p,s)\n",
    "    if m:\n",
    "        print(f\"文本 {s} 匹配，子串为{m.group(0)}\")\n",
    "    else:\n",
    "        print(f\"文本 {s} 不匹配\")\n"
   ]
  },
  {
   "cell_type": "markdown",
   "metadata": {},
   "source": [
    "[]的内容里可以简写成一个字符区间\n",
    "\n",
    "* [0-9] 等同于[0123456789]\n",
    "* [a-f] 等同于[abcdef]\n",
    "* [a-z] 等同于全部小写字母\n",
    "* [A-Z] 等同于全部大写字母\n",
    "\n",
    "还可以取多个区间，比如[0-9a-f]，表示取[0-9]和[a-f]的并集\n"
   ]
  },
  {
   "cell_type": "code",
   "execution_count": 154,
   "metadata": {
    "ExecuteTime": {
     "end_time": "2020-08-15T07:29:19.249299Z",
     "start_time": "2020-08-15T07:29:19.243874Z"
    }
   },
   "outputs": [
    {
     "name": "stdout",
     "output_type": "stream",
     "text": [
      "文本 Hello, my name is Bbn3. 匹配，子串为Bbn3\n",
      "文本 Hello, my name is Abn5. 匹配，子串为Abn5\n",
      "文本 Hello, my name is Bfnf. 不匹配\n",
      "文本 Hello, my name is Agne. 不匹配\n",
      "文本 Hello, my name is A9n6. 匹配，子串为A9n6\n"
     ]
    }
   ],
   "source": [
    "s_list = [\n",
    "    \"Hello, my name is Bbn3.\",\n",
    "    \"Hello, my name is Abn5.\",\n",
    "    \"Hello, my name is Bfnf.\",\n",
    "    \"Hello, my name is Agne.\",\n",
    "    \"Hello, my name is A9n6.\"\n",
    "\n",
    "]\n",
    "\n",
    "p = \"[AB][0-9a-f]n[0-9]\"\n",
    "\n",
    "for s in s_list:\n",
    "    m = re.search(p,s)\n",
    "    if m:\n",
    "        print(f\"文本 {s} 匹配，子串为{m.group(0)}\")\n",
    "    else:\n",
    "        print(f\"文本 {s} 不匹配\")\n"
   ]
  },
  {
   "cell_type": "markdown",
   "metadata": {},
   "source": [
    "在[]的前面添加一个^，则是取这个集合的补集\n"
   ]
  },
  {
   "cell_type": "code",
   "execution_count": 141,
   "metadata": {
    "ExecuteTime": {
     "end_time": "2020-08-15T07:13:53.391555Z",
     "start_time": "2020-08-15T07:13:53.386251Z"
    }
   },
   "outputs": [
    {
     "name": "stdout",
     "output_type": "stream",
     "text": [
      "文本 Hello, my name is Bbn3. 不匹配\n",
      "文本 Hello, my name is Abn5. 不匹配\n",
      "文本 Hello, my name is Bfnf. 不匹配\n",
      "文本 Hello, my name is Agne. 匹配，子串为Agne\n",
      "文本 Hello, my name is A9n6. 不匹配\n"
     ]
    }
   ],
   "source": [
    "s_list = [\n",
    "    \"Hello, my name is Bbn3.\",\n",
    "    \"Hello, my name is Abn5.\",\n",
    "    \"Hello, my name is Bfnf.\",\n",
    "    \"Hello, my name is Agne.\",\n",
    "    \"Hello, my name is A9n6.\"\n",
    "\n",
    "]\n",
    "\n",
    "p = \"[AB][^a-f-0-9]n[^0-9]\"\n",
    "\n",
    "for s in s_list:\n",
    "    m = re.search(p,s)\n",
    "    if m:\n",
    "        print(f\"文本 {s} 匹配，子串为{m.group(0)}\")\n",
    "    else:\n",
    "        print(f\"文本 {s} 不匹配\")\n"
   ]
  },
  {
   "cell_type": "markdown",
   "metadata": {},
   "source": [
    "#### 元字符\n",
    "\n",
    "元字符就是在正则表达式中有着特殊含义的字符，比如`.` 以及`[`等等。\n",
    "这里主要谈谈能在正则表达式中用于字符匹配的元字符，以下都是常用的元字符\n",
    "\n",
    "* `\\s`表示全部空白字符，等同于[\\f\\n\\r\\t\\v]\n",
    "* `\\d`表示全部数字（0-9）等同于[0-9]，`\\D`表示非数字，等同于[^0-9]\n",
    "* `\\w`表示全部字母+数字+下划线（0-9）等同[a-zA-Z0-9_]，`\\W`表示取其补集，等同于[^a-zA-Z0-9_]\n",
    "\n"
   ]
  },
  {
   "cell_type": "code",
   "execution_count": 157,
   "metadata": {
    "ExecuteTime": {
     "end_time": "2020-08-15T07:31:53.034389Z",
     "start_time": "2020-08-15T07:31:53.028657Z"
    }
   },
   "outputs": [
    {
     "data": {
      "text/plain": [
       "<re.Match object; span=(2, 6), match='20-0'>"
      ]
     },
     "execution_count": 157,
     "metadata": {},
     "output_type": "execute_result"
    }
   ],
   "source": [
    "re.search(\"\\d\\d-\\d\",\"2020-04-01\")"
   ]
  },
  {
   "cell_type": "markdown",
   "metadata": {},
   "source": [
    "### 不定长匹配\n",
    "\n",
    "正则表达式可以指定每个字符的匹配次数，这就变成了不定长匹配"
   ]
  },
  {
   "cell_type": "markdown",
   "metadata": {},
   "source": [
    "#### 匹配至少0次、至少1次或至多1次"
   ]
  },
  {
   "cell_type": "code",
   "execution_count": 161,
   "metadata": {
    "ExecuteTime": {
     "end_time": "2020-08-15T07:41:35.694932Z",
     "start_time": "2020-08-15T07:41:35.689729Z"
    }
   },
   "outputs": [
    {
     "name": "stdout",
     "output_type": "stream",
     "text": [
      "<re.Match object; span=(2, 4), match='ac'>\n",
      "<re.Match object; span=(2, 5), match='abc'>\n",
      "<re.Match object; span=(2, 6), match='abbc'>\n"
     ]
    }
   ],
   "source": [
    "# 匹配至少0次\n",
    "\n",
    "s_list = [\n",
    "    \"aaaca\",\n",
    "    \"aaabca\",\n",
    "    \"aaabbca\"\n",
    "]\n",
    "p = \"ab*c\"\n",
    "for s in s_list:\n",
    "    print(re.search(p,s))\n",
    "\n"
   ]
  },
  {
   "cell_type": "code",
   "execution_count": 162,
   "metadata": {
    "ExecuteTime": {
     "end_time": "2020-08-15T07:41:36.745665Z",
     "start_time": "2020-08-15T07:41:36.741464Z"
    }
   },
   "outputs": [
    {
     "name": "stdout",
     "output_type": "stream",
     "text": [
      "None\n",
      "<re.Match object; span=(2, 5), match='abc'>\n",
      "<re.Match object; span=(2, 6), match='abbc'>\n"
     ]
    }
   ],
   "source": [
    "# 匹配至少1次\n",
    "\n",
    "p = \"ab+c\"\n",
    "for s in s_list:\n",
    "    print(re.search(p,s))\n"
   ]
  },
  {
   "cell_type": "code",
   "execution_count": 164,
   "metadata": {
    "ExecuteTime": {
     "end_time": "2020-08-15T07:42:23.547503Z",
     "start_time": "2020-08-15T07:42:23.542897Z"
    }
   },
   "outputs": [
    {
     "name": "stdout",
     "output_type": "stream",
     "text": [
      "<re.Match object; span=(2, 4), match='ac'>\n",
      "<re.Match object; span=(2, 5), match='abc'>\n",
      "None\n"
     ]
    }
   ],
   "source": [
    "# 匹配至多1次\n",
    "p = \"ab?c\"\n",
    "for s in s_list:\n",
    "    print(re.search(p,s))\n"
   ]
  },
  {
   "cell_type": "markdown",
   "metadata": {},
   "source": [
    "#### 指定最少，最多匹配几次\n",
    "\n",
    "使用{n,m}来代替*,+,?，其中n是最小匹配次数，m是最大匹配次数，m也可以不写，就是不限最大次数"
   ]
  },
  {
   "cell_type": "code",
   "execution_count": 166,
   "metadata": {
    "ExecuteTime": {
     "end_time": "2020-08-15T07:46:38.605859Z",
     "start_time": "2020-08-15T07:46:38.598041Z"
    }
   },
   "outputs": [
    {
     "name": "stdout",
     "output_type": "stream",
     "text": [
      "======= 文本：aaaca =======\n",
      "None\n",
      "None\n",
      "======= 文本：aaabca =======\n",
      "<re.Match object; span=(2, 5), match='abc'>\n",
      "None\n",
      "======= 文本：aaabbca =======\n",
      "<re.Match object; span=(2, 6), match='abbc'>\n",
      "None\n",
      "======= 文本：aaabbbca =======\n",
      "None\n",
      "<re.Match object; span=(2, 7), match='abbbc'>\n",
      "======= 文本：aaabbbbca =======\n",
      "None\n",
      "<re.Match object; span=(2, 8), match='abbbbc'>\n",
      "======= 文本：aaabbbbbca =======\n",
      "None\n",
      "<re.Match object; span=(2, 9), match='abbbbbc'>\n"
     ]
    }
   ],
   "source": [
    "s_list = [\n",
    "    \"aaaca\",\n",
    "    \"aaabca\",\n",
    "    \"aaabbca\",\n",
    "    \"aaabbbca\",\n",
    "    \"aaabbbbca\",\n",
    "    \"aaabbbbbca\"\n",
    "]\n",
    "\n",
    "p1 = \"ab{1,2}c\"\n",
    "p2 = \"ab{3,}c\"\n",
    "\n",
    "for s in s_list:\n",
    "    print(f\"======= 文本：{s} =======\")\n",
    "    print(re.search(p1,s))\n",
    "    print(re.search(p2,s))\n"
   ]
  },
  {
   "cell_type": "markdown",
   "metadata": {},
   "source": [
    "### 子表达式\n",
    "\n",
    "在表达式中用`()`框起来的就是子表达式。它提供了更多组的匹配子串。相当于从匹配的子串里再取一个子串。\n",
    "前面提到如何提取日期中的年、月、日，就是一个典型的例子\n"
   ]
  },
  {
   "cell_type": "code",
   "execution_count": 168,
   "metadata": {
    "ExecuteTime": {
     "end_time": "2020-08-15T07:51:32.216012Z",
     "start_time": "2020-08-15T07:51:32.211246Z"
    }
   },
   "outputs": [
    {
     "name": "stdout",
     "output_type": "stream",
     "text": [
      "======= 文本：aaaca =======\n",
      "\n",
      "======= 文本：aaabca =======\n",
      "b\n",
      "======= 文本：aaabbca =======\n",
      "bb\n",
      "======= 文本：aaabbbca =======\n",
      "bbb\n",
      "======= 文本：aaabbbbca =======\n",
      "bbbb\n",
      "======= 文本：aaabbbbbca =======\n",
      "bbbbb\n"
     ]
    }
   ],
   "source": [
    "s_list = [\n",
    "    \"aaaca\",\n",
    "    \"aaabca\",\n",
    "    \"aaabbca\",\n",
    "    \"aaabbbca\",\n",
    "    \"aaabbbbca\",\n",
    "    \"aaabbbbbca\"\n",
    "]\n",
    "\n",
    "# 把匹配到b的部分抽取出来\n",
    "p = \"a(b*)c\"\n",
    "\n",
    "for s in s_list:\n",
    "    print(f\"======= 文本：{s} =======\")\n",
    "    m = re.search(p,s)\n",
    "    if m:\n",
    "        print(m.group(1))\n",
    "    else:\n",
    "        print(None)\n"
   ]
  },
  {
   "cell_type": "markdown",
   "metadata": {},
   "source": [
    "# NLP入门\n",
    "\n",
    "NLP就是自然语言处理（Natural Language Processing）的简称，主要研究怎么从文本中挖掘有用的信息，这里为大家讲解一些最为简单的NLP分析方法。让大家能从文本中挖掘信息。\n",
    "\n",
    "本次课程时间有限，不会讲算法的原理，主要是展示这些方法在实际商业分析中的应用\n",
    "\n",
    "\n"
   ]
  },
  {
   "cell_type": "markdown",
   "metadata": {},
   "source": [
    "### 切词\n",
    "\n",
    "切词是许多NLP方法的基础前置步骤，其本身也能提供一定的分析内容。\n",
    "在实际的商业分析中，常常会将切词结果展开然后依词进行聚合，找出那些出现次数最多的词，常用于制作词云。"
   ]
  },
  {
   "cell_type": "code",
   "execution_count": 172,
   "metadata": {
    "ExecuteTime": {
     "end_time": "2020-08-15T08:55:13.463695Z",
     "start_time": "2020-08-15T08:55:12.420668Z"
    }
   },
   "outputs": [
    {
     "name": "stderr",
     "output_type": "stream",
     "text": [
      "Building prefix dict from the default dictionary ...\n",
      "Dumping model to file cache /var/folders/cq/9vrwjs_5107bb96_52km_7ch0000gn/T/jieba.cache\n",
      "Loading model cost 1.011 seconds.\n",
      "Prefix dict has been built successfully.\n"
     ]
    },
    {
     "name": "stdout",
     "output_type": "stream",
     "text": [
      "['元芳', '你', '怎么', '看']\n"
     ]
    }
   ],
   "source": [
    "import jieba\n",
    "\n",
    "s = \"元芳你怎么看\"\n",
    "\n",
    "words = jieba.lcut(s)\n",
    "print(words)"
   ]
  },
  {
   "cell_type": "markdown",
   "metadata": {},
   "source": [
    "### 词性标注\n",
    "\n",
    "**词性标注和下面的命名实体识别都是需要模型文件，请从[官方的云盘](http://ltp.ai/download.html)上下载，选择和你安装的ltp版本相同的 ，然后将模型文件导入本文件目录下的ltp_model**\n",
    "\n",
    "在切词的基础上更进一步，识别词性，将词进行分类，比如分为形容词，动词等，便于进行更有效的分析。\n",
    "常见于分析电商评论，单独取出形容词的部分，可以更有效地分析消费者对商品的描述"
   ]
  },
  {
   "cell_type": "code",
   "execution_count": null,
   "metadata": {},
   "outputs": [],
   "source": [
    "import os\n",
    "LTP_DATA_DIR = 'ltp_model'  # ltp模型目录的路径\n",
    "pos_model_path = os.path.join(LTP_DATA_DIR, 'pos.model')  # 词性标注模型路径，模型名称为`pos.model`\n",
    "\n",
    "from pyltp import Postagger\n",
    "postagger = Postagger() # 初始化实例\n",
    "postagger.load(pos_model_path)  # 加载模型\n",
    "\n",
    "words = ['元芳', '你', '怎么', '看']  # 分词结果\n",
    "postags = postagger.postag(words)  # 词性标注\n",
    "\n",
    "print('\\t'.join(postags))\n",
    "postagger.release()  # 释放模型\n"
   ]
  },
  {
   "cell_type": "markdown",
   "metadata": {},
   "source": [
    "### 命名实体识别\n",
    "\n",
    "从文本中找出人名、地名等信息，方便进行后续分析\n"
   ]
  },
  {
   "cell_type": "code",
   "execution_count": null,
   "metadata": {},
   "outputs": [],
   "source": [
    "import os\n",
    "LTP_DATA_DIR = 'ltp_model'  # ltp模型目录的路径\n",
    "ner_model_path = os.path.join(LTP_DATA_DIR, 'ner.model')  # 命名实体识别模型路径，模型名称为`pos.model`\n",
    "\n",
    "from pyltp import NamedEntityRecognizer\n",
    "recognizer = NamedEntityRecognizer() # 初始化实例\n",
    "recognizer.load(ner_model_path)  # 加载模型\n",
    "\n",
    "words = ['元芳', '你', '怎么', '看']\n",
    "postags = ['nh', 'r', 'r', 'v']\n",
    "netags = recognizer.recognize(words, postags)  # 命名实体识别\n",
    "\n",
    "print('\\t'.join(netags))\n",
    "recognizer.release()  # 释放模型\n"
   ]
  },
  {
   "cell_type": "markdown",
   "metadata": {},
   "source": [
    "# 分析实战 - 电商平台商品标题信息提取\n",
    "以上都是基础知识，下面我们来讲解如何在实际的数据分析中进行文字处理并进行分析\n",
    "\n",
    "我们将要取一些电商平台商品标题来进行分析，通过正则提取重量，切词分析热点词等等"
   ]
  },
  {
   "cell_type": "code",
   "execution_count": 198,
   "metadata": {
    "ExecuteTime": {
     "end_time": "2020-08-15T09:17:21.892208Z",
     "start_time": "2020-08-15T09:17:21.877948Z"
    }
   },
   "outputs": [],
   "source": [
    "import pandas\n",
    "df = pd.read_csv(\"input/product_title.csv\")\n"
   ]
  },
  {
   "cell_type": "markdown",
   "metadata": {},
   "source": [
    "## 提取重量，数量（正则）\n",
    "\n",
    "* 含有g等重量单位，提取重量\n",
    "* 含有袋等数量单位，提取数量"
   ]
  },
  {
   "cell_type": "code",
   "execution_count": 200,
   "metadata": {
    "ExecuteTime": {
     "end_time": "2020-08-15T09:19:59.081942Z",
     "start_time": "2020-08-15T09:19:59.077759Z"
    },
    "collapsed": true
   },
   "outputs": [
    {
     "name": "stdout",
     "output_type": "stream",
     "text": [
      "有身份的羊内蒙古羊肉锡盟羊肉新鲜烧烤冷冻生羊肉块火锅速食250g\n",
      "新鲜内蒙糕羊肉卷500g羊肉片内蒙羔羊肉涮羊肉火锅重庆火锅食材\n",
      "淘乡甜呼伦贝尔手切羊肉片400g*2袋内蒙羊肉卷火锅食材羔羊卷新鲜\n",
      "金木兰内蒙羊肉新鲜冷冻羊杂碎羊肚羊肠羊下水下货一套5斤羊杂汤\n",
      "额尔敦 羊小腿4斤内蒙古生羊肉新鲜烧烤食材烤羊腿生鲜羊腿羊腱子\n",
      "阿牧特冷鲜羊排整扇3斤 内蒙古新鲜带骨羊排烧烤食材生羊排骨羊肉\n",
      "羊羯子3斤宁夏清真滩羊肉新鲜羊排脊骨羊腿生新鲜火锅非内蒙甘肃\n",
      "【专区199-100】大希地新鲜羊肉卷火锅食材羊肉片冷冻肥羊卷200g\n",
      "牧源祥内蒙古法式羊排500g 原味七骨羊扒 烧烤 满128顺丰包邮\n",
      "全直鲜 蒙羊羊排块400g\n",
      "首粮羊肉礼盒4种生鲜羊肉2000g礼盒装羊蝎子礼品团购顺丰配送\n",
      "宁夏肉新鲜羊肉串500*3袋 清真半成品烧烤食材烤串包邮\n",
      "羊肉羊腿净肉1000g羊肉新鲜现杀新鲜羊肉羊腿新鲜内蒙羊肉\n",
      "游牧御品内蒙古羊蝎子新鲜冷冻羊脊骨火锅 含火锅料包原味800g\n",
      "贝尔西旗 内蒙古呼伦贝尔羔羊高钙肉片 200g*3盒 生鲜火锅食材\n",
      "【唐人基】羊肉卷200g*4盒 新鲜羊肉片 火锅食材 涮羔羊肉小肥羊\n",
      "小尾羊 内蒙全羊整只20斤生羊肉新鲜烤全羊白条羊排羊腿年货礼盒\n",
      "【伊顺祥】法式羊腱子500g 羊后腿 小腿生羊腿肉生羊肉羊腱子\n",
      "农家散养正宗黑山羊肉新鲜带皮生羊前腿带排羊后腿羊排5斤包邮\n",
      "新西兰羔羊排600g羔羊肉生鲜羊肋排小排烧烤炖肉食材批发\n"
     ]
    }
   ],
   "source": [
    "# 在写正则之前，先看一下数据的情况，确定大致的pattern\n",
    "for t in df.head(20)['title'].tolist():\n",
    "    print(t)\n"
   ]
  },
  {
   "cell_type": "code",
   "execution_count": 201,
   "metadata": {
    "ExecuteTime": {
     "end_time": "2020-08-15T09:21:20.347933Z",
     "start_time": "2020-08-15T09:21:20.308771Z"
    }
   },
   "outputs": [
    {
     "data": {
      "text/html": [
       "<div>\n",
       "<style scoped>\n",
       "    .dataframe tbody tr th:only-of-type {\n",
       "        vertical-align: middle;\n",
       "    }\n",
       "\n",
       "    .dataframe tbody tr th {\n",
       "        vertical-align: top;\n",
       "    }\n",
       "\n",
       "    .dataframe thead th {\n",
       "        text-align: right;\n",
       "    }\n",
       "</style>\n",
       "<table border=\"1\" class=\"dataframe\">\n",
       "  <thead>\n",
       "    <tr style=\"text-align: right;\">\n",
       "      <th></th>\n",
       "      <th>title</th>\n",
       "      <th>per_weight</th>\n",
       "      <th>num</th>\n",
       "      <th>total_weight</th>\n",
       "    </tr>\n",
       "  </thead>\n",
       "  <tbody>\n",
       "    <tr>\n",
       "      <th>0</th>\n",
       "      <td>有身份的羊内蒙古羊肉锡盟羊肉新鲜烧烤冷冻生羊肉块火锅速食250g</td>\n",
       "      <td>250.0</td>\n",
       "      <td>1</td>\n",
       "      <td>250.0</td>\n",
       "    </tr>\n",
       "    <tr>\n",
       "      <th>1</th>\n",
       "      <td>新鲜内蒙糕羊肉卷500g羊肉片内蒙羔羊肉涮羊肉火锅重庆火锅食材</td>\n",
       "      <td>500.0</td>\n",
       "      <td>1</td>\n",
       "      <td>500.0</td>\n",
       "    </tr>\n",
       "    <tr>\n",
       "      <th>2</th>\n",
       "      <td>淘乡甜呼伦贝尔手切羊肉片400g*2袋内蒙羊肉卷火锅食材羔羊卷新鲜</td>\n",
       "      <td>400.0</td>\n",
       "      <td>2</td>\n",
       "      <td>800.0</td>\n",
       "    </tr>\n",
       "    <tr>\n",
       "      <th>3</th>\n",
       "      <td>金木兰内蒙羊肉新鲜冷冻羊杂碎羊肚羊肠羊下水下货一套5斤羊杂汤</td>\n",
       "      <td>2500.0</td>\n",
       "      <td>1</td>\n",
       "      <td>2500.0</td>\n",
       "    </tr>\n",
       "    <tr>\n",
       "      <th>4</th>\n",
       "      <td>额尔敦 羊小腿4斤内蒙古生羊肉新鲜烧烤食材烤羊腿生鲜羊腿羊腱子</td>\n",
       "      <td>2000.0</td>\n",
       "      <td>1</td>\n",
       "      <td>2000.0</td>\n",
       "    </tr>\n",
       "    <tr>\n",
       "      <th>...</th>\n",
       "      <td>...</td>\n",
       "      <td>...</td>\n",
       "      <td>...</td>\n",
       "      <td>...</td>\n",
       "    </tr>\n",
       "    <tr>\n",
       "      <th>995</th>\n",
       "      <td>福羊天赐_羔羊前腿10斤内蒙古锡林郭勒散养羊肉新鲜烧烤生羊肉</td>\n",
       "      <td>5000.0</td>\n",
       "      <td>1</td>\n",
       "      <td>5000.0</td>\n",
       "    </tr>\n",
       "    <tr>\n",
       "      <th>996</th>\n",
       "      <td>亿家合澳洲进口羔羊排骨羊小肋排10斤烧烤羊排羊肉新鲜包邮5000g</td>\n",
       "      <td>5000.0</td>\n",
       "      <td>1</td>\n",
       "      <td>5000.0</td>\n",
       "    </tr>\n",
       "    <tr>\n",
       "      <th>997</th>\n",
       "      <td>清真回族食品现宰现卖新鲜羊蹄肉多筋多生鲜蹄肉羊脚羊角3斤包邮</td>\n",
       "      <td>1500.0</td>\n",
       "      <td>1</td>\n",
       "      <td>1500.0</td>\n",
       "    </tr>\n",
       "    <tr>\n",
       "      <th>998</th>\n",
       "      <td>内蒙古羊肉卷涮羊肉片内羊肉卷盒装羊肉卷成型袋新鲜冷冻火锅食材</td>\n",
       "      <td>NaN</td>\n",
       "      <td>1</td>\n",
       "      <td>NaN</td>\n",
       "    </tr>\n",
       "    <tr>\n",
       "      <th>999</th>\n",
       "      <td>东来顺羊肉片500g/袋</td>\n",
       "      <td>500.0</td>\n",
       "      <td>1</td>\n",
       "      <td>500.0</td>\n",
       "    </tr>\n",
       "  </tbody>\n",
       "</table>\n",
       "<p>1000 rows × 4 columns</p>\n",
       "</div>"
      ],
      "text/plain": [
       "                                 title  per_weight  num  total_weight\n",
       "0     有身份的羊内蒙古羊肉锡盟羊肉新鲜烧烤冷冻生羊肉块火锅速食250g       250.0    1         250.0\n",
       "1      新鲜内蒙糕羊肉卷500g羊肉片内蒙羔羊肉涮羊肉火锅重庆火锅食材       500.0    1         500.0\n",
       "2    淘乡甜呼伦贝尔手切羊肉片400g*2袋内蒙羊肉卷火锅食材羔羊卷新鲜       400.0    2         800.0\n",
       "3       金木兰内蒙羊肉新鲜冷冻羊杂碎羊肚羊肠羊下水下货一套5斤羊杂汤      2500.0    1        2500.0\n",
       "4      额尔敦 羊小腿4斤内蒙古生羊肉新鲜烧烤食材烤羊腿生鲜羊腿羊腱子      2000.0    1        2000.0\n",
       "..                                 ...         ...  ...           ...\n",
       "995     福羊天赐_羔羊前腿10斤内蒙古锡林郭勒散养羊肉新鲜烧烤生羊肉      5000.0    1        5000.0\n",
       "996  亿家合澳洲进口羔羊排骨羊小肋排10斤烧烤羊排羊肉新鲜包邮5000g      5000.0    1        5000.0\n",
       "997     清真回族食品现宰现卖新鲜羊蹄肉多筋多生鲜蹄肉羊脚羊角3斤包邮      1500.0    1        1500.0\n",
       "998     内蒙古羊肉卷涮羊肉片内羊肉卷盒装羊肉卷成型袋新鲜冷冻火锅食材         NaN    1           NaN\n",
       "999                       东来顺羊肉片500g/袋       500.0    1         500.0\n",
       "\n",
       "[1000 rows x 4 columns]"
      ]
     },
     "execution_count": 201,
     "metadata": {},
     "output_type": "execute_result"
    }
   ],
   "source": [
    "# 提取数量\n",
    "def parse_num(title):\n",
    "    pat_num = \"(\\d+)[袋套盒包]\"\n",
    "    m = re.search(pat_num,title) \n",
    "    num = 1\n",
    "    if m:\n",
    "        num = int(m.group(1))\n",
    "    return num\n",
    "\n",
    "# 提取重量\n",
    "def parse_weight(title):\n",
    "    pat_num = \"((\\d+\\.)?(\\d+))(g|kg|斤|公斤)\"\n",
    "    m = re.search(pat_num,title) \n",
    "    weight = None\n",
    "    if m:\n",
    "        weight = float(m.group(1))\n",
    "        unit = m.group(4)\n",
    "        if unit in ('kg','公斤'):\n",
    "            weight = weight*1000\n",
    "        elif unit == '斤':\n",
    "            weight = weight*500\n",
    "    return weight\n",
    "\n",
    "# 重量单位统一为克\n",
    "df['per_weight'] = df['title'].apply(parse_weight)\n",
    "df['num'] = df['title'].apply(parse_num)\n",
    "df['total_weight'] = df['per_weight'] * df['num']\n",
    "df"
   ]
  },
  {
   "cell_type": "markdown",
   "metadata": {
    "ExecuteTime": {
     "end_time": "2020-08-15T09:15:34.693044Z",
     "start_time": "2020-08-15T09:15:34.662335Z"
    }
   },
   "source": [
    "## 热词分析（NLP）\n",
    "\n"
   ]
  },
  {
   "cell_type": "code",
   "execution_count": 204,
   "metadata": {
    "ExecuteTime": {
     "end_time": "2020-08-15T09:22:37.709716Z",
     "start_time": "2020-08-15T09:22:37.503211Z"
    },
    "collapsed": true
   },
   "outputs": [
    {
     "data": {
      "text/html": [
       "<div>\n",
       "<style scoped>\n",
       "    .dataframe tbody tr th:only-of-type {\n",
       "        vertical-align: middle;\n",
       "    }\n",
       "\n",
       "    .dataframe tbody tr th {\n",
       "        vertical-align: top;\n",
       "    }\n",
       "\n",
       "    .dataframe thead th {\n",
       "        text-align: right;\n",
       "    }\n",
       "</style>\n",
       "<table border=\"1\" class=\"dataframe\">\n",
       "  <thead>\n",
       "    <tr style=\"text-align: right;\">\n",
       "      <th></th>\n",
       "      <th>title</th>\n",
       "      <th>per_weight</th>\n",
       "      <th>num</th>\n",
       "      <th>total_weight</th>\n",
       "    </tr>\n",
       "    <tr>\n",
       "      <th>word</th>\n",
       "      <th></th>\n",
       "      <th></th>\n",
       "      <th></th>\n",
       "      <th></th>\n",
       "    </tr>\n",
       "  </thead>\n",
       "  <tbody>\n",
       "    <tr>\n",
       "      <th></th>\n",
       "      <td>1068</td>\n",
       "      <td>1020</td>\n",
       "      <td>1068</td>\n",
       "      <td>1020</td>\n",
       "    </tr>\n",
       "    <tr>\n",
       "      <th>(</th>\n",
       "      <td>4</td>\n",
       "      <td>4</td>\n",
       "      <td>4</td>\n",
       "      <td>4</td>\n",
       "    </tr>\n",
       "    <tr>\n",
       "      <th>)</th>\n",
       "      <td>4</td>\n",
       "      <td>4</td>\n",
       "      <td>4</td>\n",
       "      <td>4</td>\n",
       "    </tr>\n",
       "    <tr>\n",
       "      <th>*</th>\n",
       "      <td>58</td>\n",
       "      <td>56</td>\n",
       "      <td>58</td>\n",
       "      <td>56</td>\n",
       "    </tr>\n",
       "    <tr>\n",
       "      <th>+</th>\n",
       "      <td>2</td>\n",
       "      <td>2</td>\n",
       "      <td>2</td>\n",
       "      <td>2</td>\n",
       "    </tr>\n",
       "    <tr>\n",
       "      <th>...</th>\n",
       "      <td>...</td>\n",
       "      <td>...</td>\n",
       "      <td>...</td>\n",
       "      <td>...</td>\n",
       "    </tr>\n",
       "    <tr>\n",
       "      <th>（</th>\n",
       "      <td>14</td>\n",
       "      <td>14</td>\n",
       "      <td>14</td>\n",
       "      <td>14</td>\n",
       "    </tr>\n",
       "    <tr>\n",
       "      <th>）</th>\n",
       "      <td>15</td>\n",
       "      <td>15</td>\n",
       "      <td>15</td>\n",
       "      <td>15</td>\n",
       "    </tr>\n",
       "    <tr>\n",
       "      <th>＊</th>\n",
       "      <td>1</td>\n",
       "      <td>1</td>\n",
       "      <td>1</td>\n",
       "      <td>1</td>\n",
       "    </tr>\n",
       "    <tr>\n",
       "      <th>，</th>\n",
       "      <td>4</td>\n",
       "      <td>2</td>\n",
       "      <td>4</td>\n",
       "      <td>2</td>\n",
       "    </tr>\n",
       "    <tr>\n",
       "      <th>｜</th>\n",
       "      <td>1</td>\n",
       "      <td>1</td>\n",
       "      <td>1</td>\n",
       "      <td>1</td>\n",
       "    </tr>\n",
       "  </tbody>\n",
       "</table>\n",
       "<p>1732 rows × 4 columns</p>\n",
       "</div>"
      ],
      "text/plain": [
       "      title  per_weight   num  total_weight\n",
       "word                                       \n",
       "       1068        1020  1068          1020\n",
       "(         4           4     4             4\n",
       ")         4           4     4             4\n",
       "*        58          56    58            56\n",
       "+         2           2     2             2\n",
       "...     ...         ...   ...           ...\n",
       "（        14          14    14            14\n",
       "）        15          15    15            15\n",
       "＊         1           1     1             1\n",
       "，         4           2     4             2\n",
       "｜         1           1     1             1\n",
       "\n",
       "[1732 rows x 4 columns]"
      ]
     },
     "execution_count": 204,
     "metadata": {},
     "output_type": "execute_result"
    }
   ],
   "source": [
    "# 需要对标题进行清洗后再切词，否则大量无用词占据核心分析内容\n",
    "df['word'] = df['title'].apply(lambda t:jieba.lcut(t))\n",
    "df.explode(\"word\").groupby(\"word\").count()"
   ]
  },
  {
   "cell_type": "code",
   "execution_count": 213,
   "metadata": {
    "ExecuteTime": {
     "end_time": "2020-08-15T09:27:12.181733Z",
     "start_time": "2020-08-15T09:27:11.923047Z"
    },
    "collapsed": true
   },
   "outputs": [
    {
     "data": {
      "text/html": [
       "<div>\n",
       "<style scoped>\n",
       "    .dataframe tbody tr th:only-of-type {\n",
       "        vertical-align: middle;\n",
       "    }\n",
       "\n",
       "    .dataframe tbody tr th {\n",
       "        vertical-align: top;\n",
       "    }\n",
       "\n",
       "    .dataframe thead th {\n",
       "        text-align: right;\n",
       "    }\n",
       "</style>\n",
       "<table border=\"1\" class=\"dataframe\">\n",
       "  <thead>\n",
       "    <tr style=\"text-align: right;\">\n",
       "      <th></th>\n",
       "      <th>title</th>\n",
       "      <th>per_weight</th>\n",
       "      <th>num</th>\n",
       "      <th>total_weight</th>\n",
       "      <th>word</th>\n",
       "      <th>clean_title</th>\n",
       "      <th>clean_word</th>\n",
       "    </tr>\n",
       "  </thead>\n",
       "  <tbody>\n",
       "    <tr>\n",
       "      <th>0</th>\n",
       "      <td>有身份的羊内蒙古羊肉锡盟羊肉新鲜烧烤冷冻生羊肉块火锅速食250g</td>\n",
       "      <td>250.0</td>\n",
       "      <td>1</td>\n",
       "      <td>250.0</td>\n",
       "      <td>[有, 身份, 的, 羊, 内蒙古, 羊肉, 锡盟, 羊肉, 新鲜, 烧烤, 冷冻, 生, ...</td>\n",
       "      <td>有身份的羊内蒙古羊肉锡盟羊肉新鲜烧烤冷冻生羊肉块火锅速食250g</td>\n",
       "      <td>[有, 身份, 的, 羊, 内蒙古, 羊肉, 锡盟, 羊肉, 新鲜, 烧烤, 冷冻, 生, ...</td>\n",
       "    </tr>\n",
       "    <tr>\n",
       "      <th>1</th>\n",
       "      <td>新鲜内蒙糕羊肉卷500g羊肉片内蒙羔羊肉涮羊肉火锅重庆火锅食材</td>\n",
       "      <td>500.0</td>\n",
       "      <td>1</td>\n",
       "      <td>500.0</td>\n",
       "      <td>[新鲜, 内蒙, 糕, 羊肉, 卷, 500g, 羊肉片, 内蒙, 羔羊, 肉, 涮羊肉, ...</td>\n",
       "      <td>新鲜内蒙糕羊肉卷500g羊肉片内蒙羔羊肉涮羊肉火锅重庆火锅食材</td>\n",
       "      <td>[新鲜, 内蒙, 糕, 羊肉, 卷, 500g, 羊肉片, 内蒙, 羔羊, 肉, 涮羊肉, ...</td>\n",
       "    </tr>\n",
       "    <tr>\n",
       "      <th>2</th>\n",
       "      <td>淘乡甜呼伦贝尔手切羊肉片400g*2袋内蒙羊肉卷火锅食材羔羊卷新鲜</td>\n",
       "      <td>400.0</td>\n",
       "      <td>2</td>\n",
       "      <td>800.0</td>\n",
       "      <td>[淘乡, 甜, 呼伦贝尔, 手切, 羊肉片, 400g2, 袋, 内蒙, 羊肉, 卷, 火锅...</td>\n",
       "      <td>淘乡甜呼伦贝尔手切羊肉片400g2袋内蒙羊肉卷火锅食材羔羊卷新鲜</td>\n",
       "      <td>[淘乡, 甜, 呼伦贝尔, 手切, 羊肉片, 400g2, 袋, 内蒙, 羊肉, 卷, 火锅...</td>\n",
       "    </tr>\n",
       "    <tr>\n",
       "      <th>3</th>\n",
       "      <td>金木兰内蒙羊肉新鲜冷冻羊杂碎羊肚羊肠羊下水下货一套5斤羊杂汤</td>\n",
       "      <td>2500.0</td>\n",
       "      <td>1</td>\n",
       "      <td>2500.0</td>\n",
       "      <td>[金, 木兰, 内蒙, 羊肉, 新鲜, 冷冻, 羊杂碎, 羊肚, 羊肠, 羊下, 水下, 货...</td>\n",
       "      <td>金木兰内蒙羊肉新鲜冷冻羊杂碎羊肚羊肠羊下水下货一套5斤羊杂汤</td>\n",
       "      <td>[金, 木兰, 内蒙, 羊肉, 新鲜, 冷冻, 羊杂碎, 羊肚, 羊肠, 羊下, 水下, 货...</td>\n",
       "    </tr>\n",
       "    <tr>\n",
       "      <th>4</th>\n",
       "      <td>额尔敦 羊小腿4斤内蒙古生羊肉新鲜烧烤食材烤羊腿生鲜羊腿羊腱子</td>\n",
       "      <td>2000.0</td>\n",
       "      <td>1</td>\n",
       "      <td>2000.0</td>\n",
       "      <td>[额尔敦, 羊, 小腿, 4, 斤, 内蒙古, 生, 羊肉, 新鲜, 烧烤, 食材, 烤羊,...</td>\n",
       "      <td>额尔敦羊小腿4斤内蒙古生羊肉新鲜烧烤食材烤羊腿生鲜羊腿羊腱子</td>\n",
       "      <td>[额尔敦, 羊, 小腿, 4, 斤, 内蒙古, 生, 羊肉, 新鲜, 烧烤, 食材, 烤羊,...</td>\n",
       "    </tr>\n",
       "    <tr>\n",
       "      <th>...</th>\n",
       "      <td>...</td>\n",
       "      <td>...</td>\n",
       "      <td>...</td>\n",
       "      <td>...</td>\n",
       "      <td>...</td>\n",
       "      <td>...</td>\n",
       "      <td>...</td>\n",
       "    </tr>\n",
       "    <tr>\n",
       "      <th>995</th>\n",
       "      <td>福羊天赐_羔羊前腿10斤内蒙古锡林郭勒散养羊肉新鲜烧烤生羊肉</td>\n",
       "      <td>5000.0</td>\n",
       "      <td>1</td>\n",
       "      <td>5000.0</td>\n",
       "      <td>[福羊, 天赐, 羔羊, 前腿, 10, 斤, 内蒙古, 锡林郭勒, 散养, 羊肉, 新鲜,...</td>\n",
       "      <td>福羊天赐羔羊前腿10斤内蒙古锡林郭勒散养羊肉新鲜烧烤生羊肉</td>\n",
       "      <td>[福羊, 天赐, 羔羊, 前腿, 10, 斤, 内蒙古, 锡林郭勒, 散养, 羊肉, 新鲜,...</td>\n",
       "    </tr>\n",
       "    <tr>\n",
       "      <th>996</th>\n",
       "      <td>亿家合澳洲进口羔羊排骨羊小肋排10斤烧烤羊排羊肉新鲜包邮5000g</td>\n",
       "      <td>5000.0</td>\n",
       "      <td>1</td>\n",
       "      <td>5000.0</td>\n",
       "      <td>[亿家合, 澳洲, 进口, 羔羊, 排骨, 羊小, 肋排, 10, 斤, 烧烤, 羊排, 羊...</td>\n",
       "      <td>亿家合澳洲进口羔羊排骨羊小肋排10斤烧烤羊排羊肉新鲜包邮5000g</td>\n",
       "      <td>[亿家合, 澳洲, 进口, 羔羊, 排骨, 羊小, 肋排, 10, 斤, 烧烤, 羊排, 羊...</td>\n",
       "    </tr>\n",
       "    <tr>\n",
       "      <th>997</th>\n",
       "      <td>清真回族食品现宰现卖新鲜羊蹄肉多筋多生鲜蹄肉羊脚羊角3斤包邮</td>\n",
       "      <td>1500.0</td>\n",
       "      <td>1</td>\n",
       "      <td>1500.0</td>\n",
       "      <td>[清真, 回族, 食品, 现宰, 现卖, 新鲜, 羊蹄, 肉多筋, 多, 生鲜, 蹄, 肉羊...</td>\n",
       "      <td>清真回族食品现宰现卖新鲜羊蹄肉多筋多生鲜蹄肉羊脚羊角3斤包邮</td>\n",
       "      <td>[清真, 回族, 食品, 现宰, 现卖, 新鲜, 羊蹄, 肉多筋, 多, 生鲜, 蹄, 肉羊...</td>\n",
       "    </tr>\n",
       "    <tr>\n",
       "      <th>998</th>\n",
       "      <td>内蒙古羊肉卷涮羊肉片内羊肉卷盒装羊肉卷成型袋新鲜冷冻火锅食材</td>\n",
       "      <td>NaN</td>\n",
       "      <td>1</td>\n",
       "      <td>NaN</td>\n",
       "      <td>[内蒙古, 羊肉, 卷, 涮羊肉, 片内, 羊肉, 卷, 盒装, 羊肉, 卷, 成型, 袋,...</td>\n",
       "      <td>内蒙古羊肉卷涮羊肉片内羊肉卷盒装羊肉卷成型袋新鲜冷冻火锅食材</td>\n",
       "      <td>[内蒙古, 羊肉, 卷, 涮羊肉, 片内, 羊肉, 卷, 盒装, 羊肉, 卷, 成型, 袋,...</td>\n",
       "    </tr>\n",
       "    <tr>\n",
       "      <th>999</th>\n",
       "      <td>东来顺羊肉片500g/袋</td>\n",
       "      <td>500.0</td>\n",
       "      <td>1</td>\n",
       "      <td>500.0</td>\n",
       "      <td>[东来顺, 羊肉片, 500g, 袋]</td>\n",
       "      <td>东来顺羊肉片500g袋</td>\n",
       "      <td>[东来顺, 羊肉片, 500g, 袋]</td>\n",
       "    </tr>\n",
       "  </tbody>\n",
       "</table>\n",
       "<p>1000 rows × 7 columns</p>\n",
       "</div>"
      ],
      "text/plain": [
       "                                 title  per_weight  num  total_weight  \\\n",
       "0     有身份的羊内蒙古羊肉锡盟羊肉新鲜烧烤冷冻生羊肉块火锅速食250g       250.0    1         250.0   \n",
       "1      新鲜内蒙糕羊肉卷500g羊肉片内蒙羔羊肉涮羊肉火锅重庆火锅食材       500.0    1         500.0   \n",
       "2    淘乡甜呼伦贝尔手切羊肉片400g*2袋内蒙羊肉卷火锅食材羔羊卷新鲜       400.0    2         800.0   \n",
       "3       金木兰内蒙羊肉新鲜冷冻羊杂碎羊肚羊肠羊下水下货一套5斤羊杂汤      2500.0    1        2500.0   \n",
       "4      额尔敦 羊小腿4斤内蒙古生羊肉新鲜烧烤食材烤羊腿生鲜羊腿羊腱子      2000.0    1        2000.0   \n",
       "..                                 ...         ...  ...           ...   \n",
       "995     福羊天赐_羔羊前腿10斤内蒙古锡林郭勒散养羊肉新鲜烧烤生羊肉      5000.0    1        5000.0   \n",
       "996  亿家合澳洲进口羔羊排骨羊小肋排10斤烧烤羊排羊肉新鲜包邮5000g      5000.0    1        5000.0   \n",
       "997     清真回族食品现宰现卖新鲜羊蹄肉多筋多生鲜蹄肉羊脚羊角3斤包邮      1500.0    1        1500.0   \n",
       "998     内蒙古羊肉卷涮羊肉片内羊肉卷盒装羊肉卷成型袋新鲜冷冻火锅食材         NaN    1           NaN   \n",
       "999                       东来顺羊肉片500g/袋       500.0    1         500.0   \n",
       "\n",
       "                                                  word  \\\n",
       "0    [有, 身份, 的, 羊, 内蒙古, 羊肉, 锡盟, 羊肉, 新鲜, 烧烤, 冷冻, 生, ...   \n",
       "1    [新鲜, 内蒙, 糕, 羊肉, 卷, 500g, 羊肉片, 内蒙, 羔羊, 肉, 涮羊肉, ...   \n",
       "2    [淘乡, 甜, 呼伦贝尔, 手切, 羊肉片, 400g2, 袋, 内蒙, 羊肉, 卷, 火锅...   \n",
       "3    [金, 木兰, 内蒙, 羊肉, 新鲜, 冷冻, 羊杂碎, 羊肚, 羊肠, 羊下, 水下, 货...   \n",
       "4    [额尔敦, 羊, 小腿, 4, 斤, 内蒙古, 生, 羊肉, 新鲜, 烧烤, 食材, 烤羊,...   \n",
       "..                                                 ...   \n",
       "995  [福羊, 天赐, 羔羊, 前腿, 10, 斤, 内蒙古, 锡林郭勒, 散养, 羊肉, 新鲜,...   \n",
       "996  [亿家合, 澳洲, 进口, 羔羊, 排骨, 羊小, 肋排, 10, 斤, 烧烤, 羊排, 羊...   \n",
       "997  [清真, 回族, 食品, 现宰, 现卖, 新鲜, 羊蹄, 肉多筋, 多, 生鲜, 蹄, 肉羊...   \n",
       "998  [内蒙古, 羊肉, 卷, 涮羊肉, 片内, 羊肉, 卷, 盒装, 羊肉, 卷, 成型, 袋,...   \n",
       "999                                [东来顺, 羊肉片, 500g, 袋]   \n",
       "\n",
       "                           clean_title  \\\n",
       "0     有身份的羊内蒙古羊肉锡盟羊肉新鲜烧烤冷冻生羊肉块火锅速食250g   \n",
       "1      新鲜内蒙糕羊肉卷500g羊肉片内蒙羔羊肉涮羊肉火锅重庆火锅食材   \n",
       "2     淘乡甜呼伦贝尔手切羊肉片400g2袋内蒙羊肉卷火锅食材羔羊卷新鲜   \n",
       "3       金木兰内蒙羊肉新鲜冷冻羊杂碎羊肚羊肠羊下水下货一套5斤羊杂汤   \n",
       "4       额尔敦羊小腿4斤内蒙古生羊肉新鲜烧烤食材烤羊腿生鲜羊腿羊腱子   \n",
       "..                                 ...   \n",
       "995      福羊天赐羔羊前腿10斤内蒙古锡林郭勒散养羊肉新鲜烧烤生羊肉   \n",
       "996  亿家合澳洲进口羔羊排骨羊小肋排10斤烧烤羊排羊肉新鲜包邮5000g   \n",
       "997     清真回族食品现宰现卖新鲜羊蹄肉多筋多生鲜蹄肉羊脚羊角3斤包邮   \n",
       "998     内蒙古羊肉卷涮羊肉片内羊肉卷盒装羊肉卷成型袋新鲜冷冻火锅食材   \n",
       "999                        东来顺羊肉片500g袋   \n",
       "\n",
       "                                            clean_word  \n",
       "0    [有, 身份, 的, 羊, 内蒙古, 羊肉, 锡盟, 羊肉, 新鲜, 烧烤, 冷冻, 生, ...  \n",
       "1    [新鲜, 内蒙, 糕, 羊肉, 卷, 500g, 羊肉片, 内蒙, 羔羊, 肉, 涮羊肉, ...  \n",
       "2    [淘乡, 甜, 呼伦贝尔, 手切, 羊肉片, 400g2, 袋, 内蒙, 羊肉, 卷, 火锅...  \n",
       "3    [金, 木兰, 内蒙, 羊肉, 新鲜, 冷冻, 羊杂碎, 羊肚, 羊肠, 羊下, 水下, 货...  \n",
       "4    [额尔敦, 羊, 小腿, 4, 斤, 内蒙古, 生, 羊肉, 新鲜, 烧烤, 食材, 烤羊,...  \n",
       "..                                                 ...  \n",
       "995  [福羊, 天赐, 羔羊, 前腿, 10, 斤, 内蒙古, 锡林郭勒, 散养, 羊肉, 新鲜,...  \n",
       "996  [亿家合, 澳洲, 进口, 羔羊, 排骨, 羊小, 肋排, 10, 斤, 烧烤, 羊排, 羊...  \n",
       "997  [清真, 回族, 食品, 现宰, 现卖, 新鲜, 羊蹄, 肉多筋, 多, 生鲜, 蹄, 肉羊...  \n",
       "998  [内蒙古, 羊肉, 卷, 涮羊肉, 片内, 羊肉, 卷, 盒装, 羊肉, 卷, 成型, 袋,...  \n",
       "999                                [东来顺, 羊肉片, 500g, 袋]  \n",
       "\n",
       "[1000 rows x 7 columns]"
      ]
     },
     "execution_count": 213,
     "metadata": {},
     "output_type": "execute_result"
    }
   ],
   "source": [
    "def __clean_text(text, remove_emoji=False):\n",
    "    '''\n",
    "        清洗文本内容\n",
    "    '''\n",
    "    # 替换变异空格\n",
    "    \n",
    "    text = re.sub(r\"\\s\", \"\", text)\n",
    "    text = text.replace('\\n', '')\n",
    "    text = text.replace('\\\\n', '')\n",
    "    # 去除标点符号\n",
    "    text = re.sub(r\"[\\s+\\.\\!\\/_,$%^*)(+\\\"\\'=+、><——！，\\-´\\[\\]“”()『』；;〔〕——〈〉【】╮╯▽╰╭★→「」《》。？?>、~～：:@#￥%……&*（）]+\", \"\", text)\n",
    "    text = re.sub(r\"\\\\\", \"\", text)\n",
    "    text = re.sub(r\"\\[\", \"\", text)\n",
    "    text = re.sub(r\"\\]\", \"\", text)\n",
    "    text = re.sub(r\"\\.*\", \"\", text)\n",
    "    # 去除\\u200b\n",
    "    text = re.sub(u\"\\u200b\", \"\", text)\n",
    "    return text\n",
    "\n",
    "df['clean_title'] = df['title'].apply(__clean_text)\n",
    "df['clean_word'] = df['clean_title'].apply(lambda t:jieba.lcut(t))\n",
    "df"
   ]
  },
  {
   "cell_type": "code",
   "execution_count": 216,
   "metadata": {
    "ExecuteTime": {
     "end_time": "2020-08-15T09:27:50.938329Z",
     "start_time": "2020-08-15T09:27:50.909833Z"
    }
   },
   "outputs": [
    {
     "data": {
      "text/html": [
       "<div>\n",
       "<style scoped>\n",
       "    .dataframe tbody tr th:only-of-type {\n",
       "        vertical-align: middle;\n",
       "    }\n",
       "\n",
       "    .dataframe tbody tr th {\n",
       "        vertical-align: top;\n",
       "    }\n",
       "\n",
       "    .dataframe thead th {\n",
       "        text-align: right;\n",
       "    }\n",
       "</style>\n",
       "<table border=\"1\" class=\"dataframe\">\n",
       "  <thead>\n",
       "    <tr style=\"text-align: right;\">\n",
       "      <th></th>\n",
       "      <th>clean_word</th>\n",
       "      <th>title</th>\n",
       "    </tr>\n",
       "  </thead>\n",
       "  <tbody>\n",
       "    <tr>\n",
       "      <th>0</th>\n",
       "      <td>羊肉</td>\n",
       "      <td>813</td>\n",
       "    </tr>\n",
       "    <tr>\n",
       "      <th>1</th>\n",
       "      <td>新鲜</td>\n",
       "      <td>727</td>\n",
       "    </tr>\n",
       "    <tr>\n",
       "      <th>2</th>\n",
       "      <td>羔羊</td>\n",
       "      <td>430</td>\n",
       "    </tr>\n",
       "    <tr>\n",
       "      <th>3</th>\n",
       "      <td>羊</td>\n",
       "      <td>388</td>\n",
       "    </tr>\n",
       "    <tr>\n",
       "      <th>4</th>\n",
       "      <td>斤</td>\n",
       "      <td>376</td>\n",
       "    </tr>\n",
       "    <tr>\n",
       "      <th>...</th>\n",
       "      <td>...</td>\n",
       "      <td>...</td>\n",
       "    </tr>\n",
       "    <tr>\n",
       "      <th>1787</th>\n",
       "      <td>极板</td>\n",
       "      <td>1</td>\n",
       "    </tr>\n",
       "    <tr>\n",
       "      <th>1788</th>\n",
       "      <td>果</td>\n",
       "      <td>1</td>\n",
       "    </tr>\n",
       "    <tr>\n",
       "      <th>1789</th>\n",
       "      <td>根原切</td>\n",
       "      <td>1</td>\n",
       "    </tr>\n",
       "    <tr>\n",
       "      <th>1790</th>\n",
       "      <td>桃李</td>\n",
       "      <td>1</td>\n",
       "    </tr>\n",
       "    <tr>\n",
       "      <th>1791</th>\n",
       "      <td>0g</td>\n",
       "      <td>1</td>\n",
       "    </tr>\n",
       "  </tbody>\n",
       "</table>\n",
       "<p>1792 rows × 2 columns</p>\n",
       "</div>"
      ],
      "text/plain": [
       "     clean_word  title\n",
       "0            羊肉    813\n",
       "1            新鲜    727\n",
       "2            羔羊    430\n",
       "3             羊    388\n",
       "4             斤    376\n",
       "...         ...    ...\n",
       "1787         极板      1\n",
       "1788          果      1\n",
       "1789        根原切      1\n",
       "1790         桃李      1\n",
       "1791         0g      1\n",
       "\n",
       "[1792 rows x 2 columns]"
      ]
     },
     "execution_count": 216,
     "metadata": {},
     "output_type": "execute_result"
    }
   ],
   "source": [
    "hot_words = df.explode(\"clean_word\").groupby(\"clean_word\")['title'].count().sort_values(ascending=False).reset_index()\n",
    "hot_words\n"
   ]
  },
  {
   "cell_type": "code",
   "execution_count": null,
   "metadata": {},
   "outputs": [],
   "source": []
  }
 ],
 "metadata": {
  "kernelspec": {
   "display_name": "Python 3",
   "language": "python",
   "name": "python3"
  },
  "language_info": {
   "codemirror_mode": {
    "name": "ipython",
    "version": 3
   },
   "file_extension": ".py",
   "mimetype": "text/x-python",
   "name": "python",
   "nbconvert_exporter": "python",
   "pygments_lexer": "ipython3",
   "version": "3.7.2"
  },
  "toc": {
   "base_numbering": 1,
   "nav_menu": {},
   "number_sections": false,
   "sideBar": true,
   "skip_h1_title": false,
   "title_cell": "Table of Contents",
   "title_sidebar": "Contents",
   "toc_cell": false,
   "toc_position": {
    "height": "calc(100% - 180px)",
    "left": "10px",
    "top": "150px",
    "width": "288px"
   },
   "toc_section_display": true,
   "toc_window_display": true
  }
 },
 "nbformat": 4,
 "nbformat_minor": 2
}
