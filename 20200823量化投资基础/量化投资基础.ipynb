{
 "cells": [
  {
   "cell_type": "code",
   "execution_count": null,
   "metadata": {},
   "outputs": [],
   "source": [
    "对数市值（元）\tS_DFA_LNMV\n",
    "市净率(PB)\tS_VAL_PB_NEW\n",
    "市盈率(PE,TTM)\tS_VAL_PE_TTM\n",
    "净资产收益率\tS_FA_ROE\n",
    "月收益率(%)\tS_MQ_PCTCHANGE\n",
    "收盘价(元)\tS_DQ_CLOSE\n",
    "涨跌幅(%)\tS_DQ_PCTCHANGE\n",
    "成交金额(千元)\tS_DQ_AMOUNT\n"
   ]
  }
 ],
 "metadata": {
  "kernelspec": {
   "display_name": "Python 3",
   "language": "python",
   "name": "python3"
  },
  "language_info": {
   "codemirror_mode": {
    "name": "ipython",
    "version": 3
   },
   "file_extension": ".py",
   "mimetype": "text/x-python",
   "name": "python",
   "nbconvert_exporter": "python",
   "pygments_lexer": "ipython3",
   "version": "3.8.3"
  }
 },
 "nbformat": 4,
 "nbformat_minor": 4
}
